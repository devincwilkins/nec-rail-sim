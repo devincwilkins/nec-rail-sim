{
 "cells": [
  {
   "cell_type": "code",
   "execution_count": 28,
   "metadata": {},
   "outputs": [],
   "source": [
    "using DataFrames, CSV\n",
    "using Pkg\n",
    "using JuMP, Gurobi\n",
    "using LinearAlgebra, Random, Printf, StatsBase, CategoricalArrays\n",
    "using Plots\n",
    "using Dates\n",
    "using Tables"
   ]
  },
  {
   "cell_type": "markdown",
   "metadata": {},
   "source": [
    "The following code is based on \"A cycle time optimization model for generating stable periodic railway timetables\" by Sparing & Goverde (2017)"
   ]
  },
  {
   "cell_type": "code",
   "execution_count": 29,
   "metadata": {},
   "outputs": [],
   "source": [
    "# N = (E,A,T) is the periodic event-activity network\n",
    "# T is the common cycle time for all events\n",
    "# an event i in E is a tuple(Line_i,Station_i, EventType_i)\n",
    "    # Line is the trian line identifier (unique for each one directional train run per one cycle time period)\n",
    "    # Station is a train station, junction, or other timetable point\n",
    "        #a binary flag is assigned to each station describing whether or not overtaking is possible at the station\n",
    "    # EventType can take values from the set {dep,arr,thr}\n",
    "# an activity aij in A is a tuple (i,j, activityType_ij, Lij, Uij)\n",
    "    # i,j in E are the start and end events\n",
    "    # activityType_ij in (run, dwell, infra, reg)\n",
    "        # run activity connects a departure or through event to an arrival or through event \n",
    "        # dwell activity always connects an arrival event to a departure event\n",
    "        # infra activity can connect any two events\n",
    "        # reg(ularity) activity \n",
    "    #(Lij, Uij) is the allowed range of the activity duration "
   ]
  },
  {
   "cell_type": "code",
   "execution_count": 30,
   "metadata": {},
   "outputs": [],
   "source": [
    "Lines = [\"HSR\",\"CR\"];"
   ]
  },
  {
   "cell_type": "code",
   "execution_count": 31,
   "metadata": {},
   "outputs": [],
   "source": [
    "#i in E = line, station, eventType TUPLE\n",
    "\n",
    "#create index for Events (?) \n",
    "E = [1,2,3,4,5,6,7,8,9,10,11];"
   ]
  },
  {
   "cell_type": "code",
   "execution_count": 32,
   "metadata": {},
   "outputs": [
    {
     "data": {
      "text/plain": [
       "100"
      ]
     },
     "metadata": {},
     "output_type": "display_data"
    }
   ],
   "source": [
    "L = 8  #what are these L, U? # L is lower limit on the total variable cycle time, t\n",
    "U = 100"
   ]
  },
  {
   "cell_type": "code",
   "execution_count": 41,
   "metadata": {},
   "outputs": [
    {
     "name": "stdout",
     "output_type": "stream",
     "text": [
      "Set parameter Username\n",
      "Academic license - for non-commercial use only - expires 2024-10-19\n"
     ]
    },
    {
     "name": "stderr",
     "output_type": "stream",
     "text": [
      "WARNING: redefinition of constant GRB_ENV. This may fail, cause incorrect answers, or produce other errors.\n"
     ]
    },
    {
     "data": {
      "text/plain": [
       "11×11 Matrix{VariableRef}:\n",
       " z[1,1]   z[1,2]   z[1,3]   z[1,4]   z[1,5]   …  z[1,9]   z[1,10]   z[1,11]\n",
       " z[2,1]   z[2,2]   z[2,3]   z[2,4]   z[2,5]      z[2,9]   z[2,10]   z[2,11]\n",
       " z[3,1]   z[3,2]   z[3,3]   z[3,4]   z[3,5]      z[3,9]   z[3,10]   z[3,11]\n",
       " z[4,1]   z[4,2]   z[4,3]   z[4,4]   z[4,5]      z[4,9]   z[4,10]   z[4,11]\n",
       " z[5,1]   z[5,2]   z[5,3]   z[5,4]   z[5,5]      z[5,9]   z[5,10]   z[5,11]\n",
       " z[6,1]   z[6,2]   z[6,3]   z[6,4]   z[6,5]   …  z[6,9]   z[6,10]   z[6,11]\n",
       " z[7,1]   z[7,2]   z[7,3]   z[7,4]   z[7,5]      z[7,9]   z[7,10]   z[7,11]\n",
       " z[8,1]   z[8,2]   z[8,3]   z[8,4]   z[8,5]      z[8,9]   z[8,10]   z[8,11]\n",
       " z[9,1]   z[9,2]   z[9,3]   z[9,4]   z[9,5]      z[9,9]   z[9,10]   z[9,11]\n",
       " z[10,1]  z[10,2]  z[10,3]  z[10,4]  z[10,5]     z[10,9]  z[10,10]  z[10,11]\n",
       " z[11,1]  z[11,2]  z[11,3]  z[11,4]  z[11,5]  …  z[11,9]  z[11,10]  z[11,11]"
      ]
     },
     "metadata": {},
     "output_type": "display_data"
    }
   ],
   "source": [
    "const GRB_ENV = Gurobi.Env();\n",
    "m = Model(() -> Gurobi.Optimizer(GRB_ENV));\n",
    "\n",
    "@variable(m, t >= L); #total cycle time must exceed some minimum cycle time\n",
    "@variable(m, Tau[1:length(E)] >= 0, Int); #main decision variable, time of event i \n",
    "@variable(m, y[1:length(E),1:length(E)] >= 0); #linearization variable y=zt\n",
    "@variable(m, z[1:length(E),1:length(E)], Bin); # describes for each activity the order of events within \n",
    "                                                ## the timetable period (1 if transverses to next cycle)\n"
   ]
  },
  {
   "cell_type": "code",
   "execution_count": 34,
   "metadata": {},
   "outputs": [
    {
     "data": {
      "text/plain": [
       "2-element Vector{AffExpr}:\n",
       " 3\n",
       " t - 3"
      ]
     },
     "metadata": {},
     "output_type": "display_data"
    }
   ],
   "source": [
    "A = Array{Any}(undef, 11, 11) #I used 11 here to map to the number of events \n",
    "\n",
    "for i in 1:11\n",
    "    for j in 1:11\n",
    "        A[i,j] = [0,20] #setting upper and lower bounds of events\n",
    "    end\n",
    "end\n",
    "\n",
    "A[1,2] = [30,36] #manually setting all event times for run and dwell events (insane)\n",
    "A[2,3] = [18,24]\n",
    "A[4,5] = [24,28]\n",
    "A[5,6] = [14,20]\n",
    "A[6,7] = [20,24]\n",
    "A[8,9] = [24,28]\n",
    "A[9,10] = [14,20]\n",
    "A[10,11] = [14,18]\n",
    "\n",
    "A[1,4] = [3,t-3] #manually setting times for infra events (headway) (insane)\n",
    "A[4,1] = [3,t-3]\n",
    "A[1,8] = [3,t-3]\n",
    "A[8,1] = [3,t-3]\n",
    "A[4,8] = [3,t-3]\n",
    "A[8,4] = [3,t-3]\n",
    "\n",
    "A[2,5] = [3,t-3]\n",
    "A[5,2] = [3,t-3]\n",
    "A[2,9] = [3,t-3]\n",
    "A[9,2] = [3,t-3]\n",
    "A[5,9] = [3,t-3]\n",
    "A[9,5] = [3,t-3]\n",
    "\n",
    "A[3,6] = [3,t-3]\n",
    "A[6,3] = [3,t-3]\n",
    "A[3,10] = [3,t-3]\n",
    "A[10,3] = [3,t-3]\n",
    "A[6,10] = [3,t-3]\n",
    "A[10,6] = [3,t-3]\n",
    "\n",
    "A[7,11] = [3,t-3]\n",
    "A[11,7] =[3,t-3]"
   ]
  },
  {
   "cell_type": "code",
   "execution_count": 35,
   "metadata": {},
   "outputs": [],
   "source": [
    "\n",
    "@objective(m, Min, t); #minimize the total cycle time (proxy for stability)\n",
    "\n",
    "@constraint(m, c_1a[i in 1:length(E), j in 1:length(E)], Tau[j] - Tau[i] + y[i,j] >= A[i,j][1]); #the time between events should be\n",
    "                                                                                                 ## bounded by the given bounds\n",
    "@constraint(m, c_1b[i in 1:length(E), j in 1:length(E)], Tau[j] - Tau[i] + y[i,j] <= A[i,j][2]); #pair to above for upper bound\n",
    "\n",
    "@constraint(m, c_2[i in 1:length(E)], Tau[i] - t <= .0001); #Start time of all events must be less than the cycle time\n",
    "\n",
    "@constraint(m, c_3[i in 1:length(E), j in 1:length(E)], y[i,j] <= t); #linearization constraint\n",
    "\n",
    "@constraint(m, c_4[i in 1:length(E), j in 1:length(E)], y[i,j] - U*z[i,j] <= 0); #linearization constraint\n",
    "\n",
    "@constraint(m, c_5[i in 1:length(E), j in 1:length(E)], y[i,j] - t + U*(1- z[i,j]) >= 0); #linearization constraint\n",
    "\n",
    "@constraint(m, c_6, t <= U); #upper bound on cycle time"
   ]
  },
  {
   "cell_type": "code",
   "execution_count": 36,
   "metadata": {},
   "outputs": [
    {
     "name": "stdout",
     "output_type": "stream",
     "text": [
      "Gurobi Optimizer version 10.0.3 build v10.0.3rc0 (mac64[arm])\n",
      "\n",
      "CPU model: Apple M2 Pro\n",
      "Thread count: 12 physical cores, 12 logical processors, using up to 12 threads\n",
      "\n",
      "Optimize a model with 617 rows, 254 columns and 1572 nonzeros\n",
      "Model fingerprint: 0x296dec67\n",
      "Variable types: 122 continuous, 132 integer (121 binary)\n",
      "Coefficient statistics:\n",
      "  Matrix range     [1e+00, 1e+02]\n",
      "  Objective range  [1e+00, 1e+00]\n",
      "  Bounds range     [8e+00, 8e+00]\n",
      "  RHS range        [1e-04, 1e+02]\n",
      "Presolve removed 53 rows and 20 columns\n",
      "Presolve time: 0.00s\n",
      "Presolved: 564 rows, 234 columns, 1479 nonzeros\n",
      "Variable types: 112 continuous, 122 integer (111 binary)\n",
      "\n",
      "Root relaxation: objective 1.600000e+01, 167 iterations, 0.00 seconds (0.00 work units)\n",
      "\n",
      "    Nodes    |    Current Node    |     Objective Bounds      |     Work\n",
      " Expl Unexpl |  Obj  Depth IntInf | Incumbent    BestBd   Gap | It/Node Time\n",
      "\n",
      "     0     0   16.00000    0    2          -   16.00000      -     -    0s\n",
      "H    0     0                      18.0000000   16.00000  11.1%     -    0s\n",
      "H    0     0                      17.0000000   16.00000  5.88%     -    0s\n",
      "     0     0   16.00000    0    2   17.00000   16.00000  5.88%     -    0s\n",
      "     0     0   16.00000    0    5   17.00000   16.00000  5.88%     -    0s\n",
      "     0     0   16.99990    0    6   17.00000   16.99990  0.00%     -    0s\n",
      "\n",
      "Cutting planes:\n",
      "  Gomory: 3\n",
      "  Implied bound: 6\n",
      "  MIR: 5\n",
      "  Flow cover: 3\n",
      "  RLT: 2\n",
      "  Relax-and-lift: 5\n",
      "  BQP: 75\n",
      "\n",
      "Explored 1 nodes (416 simplex iterations) in 0.02 seconds (0.03 work units)\n",
      "Thread count was 12 (of 12 available processors)\n",
      "\n",
      "Solution count 2: 17 18 \n",
      "\n",
      "Optimal solution found (tolerance 1.00e-04)\n",
      "Best objective 1.700000000000e+01, best bound 1.699990000000e+01, gap 0.0006%\n",
      "\n",
      "User-callback calls 310, time in user-callback 0.00 sec\n"
     ]
    }
   ],
   "source": [
    "optimize!(m)"
   ]
  },
  {
   "cell_type": "code",
   "execution_count": 37,
   "metadata": {},
   "outputs": [
    {
     "data": {
      "text/plain": [
       "11-element Vector{Float64}:\n",
       "  3.0\n",
       " 16.0\n",
       " 17.0\n",
       "  6.0\n",
       " 13.0\n",
       " 12.0\n",
       " 16.0\n",
       "  0.0\n",
       "  9.0\n",
       "  9.0\n",
       "  8.0"
      ]
     },
     "metadata": {},
     "output_type": "display_data"
    }
   ],
   "source": [
    "value.(Tau)"
   ]
  },
  {
   "cell_type": "code",
   "execution_count": 38,
   "metadata": {},
   "outputs": [
    {
     "data": {
      "text/plain": [
       "11×11 Matrix{Float64}:\n",
       "  0.0  17.0   0.0   0.0   0.0   0.0   0.0  17.0   0.0   0.0   0.0\n",
       " 17.0   0.0  17.0  17.0  17.0  17.0   0.0  17.0  17.0  17.0  17.0\n",
       " 17.0  17.0   0.0  17.0  17.0  17.0  17.0  17.0  17.0  17.0  17.0\n",
       " 17.0   0.0   0.0   0.0  17.0   0.0   0.0  17.0   0.0   0.0   0.0\n",
       " 17.0   0.0   0.0  17.0   0.0  17.0   0.0  17.0  17.0  17.0  17.0\n",
       " 17.0   0.0   0.0  17.0  17.0   0.0  17.0  17.0  17.0  17.0  17.0\n",
       " 17.0  17.0   0.0  17.0  17.0  17.0   0.0  17.0  17.0  17.0  17.0\n",
       "  0.0   0.0   0.0   0.0   0.0   0.0   0.0   0.0  17.0   0.0   0.0\n",
       " 17.0   0.0   0.0  17.0   0.0  17.0   0.0  17.0   0.0  17.0  17.0\n",
       " 17.0   0.0   0.0  17.0   0.0   0.0   0.0  17.0  17.0   0.0  17.0\n",
       " 17.0   0.0   0.0  17.0   0.0   0.0   0.0  17.0   0.0   0.0   0.0"
      ]
     },
     "metadata": {},
     "output_type": "display_data"
    }
   ],
   "source": [
    "value.(y)"
   ]
  },
  {
   "cell_type": "code",
   "execution_count": 39,
   "metadata": {},
   "outputs": [],
   "source": []
  },
  {
   "cell_type": "code",
   "execution_count": 40,
   "metadata": {},
   "outputs": [],
   "source": []
  }
 ],
 "metadata": {
  "kernelspec": {
   "display_name": "Julia 1.9.3",
   "language": "julia",
   "name": "julia-1.9"
  },
  "language_info": {
   "file_extension": ".jl",
   "mimetype": "application/julia",
   "name": "julia",
   "version": "1.9.3"
  },
  "orig_nbformat": 4
 },
 "nbformat": 4,
 "nbformat_minor": 2
}
