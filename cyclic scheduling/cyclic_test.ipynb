{
 "cells": [
  {
   "cell_type": "code",
   "execution_count": 3,
   "metadata": {},
   "outputs": [],
   "source": [
    "using DataFrames, CSV\n",
    "using Pkg\n",
    "using JuMP, Gurobi\n",
    "using LinearAlgebra, Random, Printf, StatsBase, CategoricalArrays\n",
    "using Plots\n",
    "using Dates\n",
    "using Tables"
   ]
  },
  {
   "cell_type": "code",
   "execution_count": 4,
   "metadata": {},
   "outputs": [],
   "source": [
    "#A is the activity set (?)\n",
    "#E is the event set\n",
    "\n",
    "#L is lower bound on \n",
    "#U is upper bound on"
   ]
  },
  {
   "cell_type": "code",
   "execution_count": 5,
   "metadata": {},
   "outputs": [
    {
     "data": {
      "text/plain": [
       "2-element Vector{String}:\n",
       " \"HSR\"\n",
       " \"CR\""
      ]
     },
     "metadata": {},
     "output_type": "display_data"
    }
   ],
   "source": [
    "Lines = [\"HSR\",\"CR\"]"
   ]
  },
  {
   "cell_type": "code",
   "execution_count": 6,
   "metadata": {},
   "outputs": [
    {
     "data": {
      "text/plain": [
       "11-element Vector{Int64}:\n",
       "  1\n",
       "  2\n",
       "  3\n",
       "  4\n",
       "  5\n",
       "  6\n",
       "  7\n",
       "  8\n",
       "  9\n",
       " 10\n",
       " 11"
      ]
     },
     "metadata": {},
     "output_type": "display_data"
    }
   ],
   "source": [
    "#i in E = line, station, eventType TUPLE\n",
    "E = [1,2,3,4,5,6,7,8,9,10,11]"
   ]
  },
  {
   "cell_type": "code",
   "execution_count": 46,
   "metadata": {},
   "outputs": [
    {
     "data": {
      "text/plain": [
       "2-element Vector{Int64}:\n",
       "   3\n",
       " 120"
      ]
     },
     "metadata": {},
     "output_type": "display_data"
    }
   ],
   "source": [
    "A = Array{Any}(undef, 11, 11)\n",
    "\n",
    "for i in 1:11\n",
    "    for j in 1:11\n",
    "        A[i,j] = [0,20]\n",
    "    end\n",
    "end\n",
    "\n",
    "A[1,2] = [30,36]\n",
    "A[2,3] = [18,24]\n",
    "A[4,5] = [24,28]\n",
    "A[5,6] = [14,20]\n",
    "A[6,7] = [20,24]\n",
    "A[8,9] = [24,28]\n",
    "A[9,10] = [14,20]\n",
    "A[10,11] = [14,18]\n",
    "\n",
    "A[1,4] = [3,t]\n",
    "A[4,1] = [3,t]\n",
    "A[1,8] = [3,t]\n",
    "A[8,1] = [3,t]\n",
    "A[4,8] = [3,t]\n",
    "A[8,4] = [3,t]\n",
    "\n",
    "A[2,5] = [3,t]\n",
    "A[5,2] = [3,t]\n",
    "A[2,9] = [3,t]\n",
    "A[9,2] = [3,t]\n",
    "A[5,9] = [3,t]\n",
    "A[9,5] = [3,t]\n",
    "\n",
    "A[3,6] = [3,t]\n",
    "A[6,3] = [3,t]\n",
    "A[3,10] = [3,t]\n",
    "A[10,3] = [3,t]\n",
    "A[6,10] = [3,t]\n",
    "A[10,6] = [3,t]\n",
    "\n",
    "A[7,11] = [3,t]\n",
    "A[11,7] =[3,t]"
   ]
  },
  {
   "cell_type": "code",
   "execution_count": 47,
   "metadata": {},
   "outputs": [
    {
     "data": {
      "text/plain": [
       "11×11 Matrix{Any}:\n",
       " [0, 20]   [30, 36]  [0, 20]   [3, 120]  …  [0, 20]   [0, 20]   [0, 20]\n",
       " [0, 20]   [0, 20]   [18, 24]  [0, 20]      [3, 120]  [0, 20]   [0, 20]\n",
       " [0, 20]   [0, 20]   [0, 20]   [0, 20]      [0, 20]   [3, 120]  [0, 20]\n",
       " [3, 120]  [0, 20]   [0, 20]   [0, 20]      [0, 20]   [0, 20]   [0, 20]\n",
       " [0, 20]   [3, 120]  [0, 20]   [0, 20]      [3, 120]  [0, 20]   [0, 20]\n",
       " [0, 20]   [0, 20]   [3, 120]  [0, 20]   …  [0, 20]   [3, 120]  [0, 20]\n",
       " [0, 20]   [0, 20]   [0, 20]   [0, 20]      [0, 20]   [0, 20]   [3, 120]\n",
       " [3, 120]  [0, 20]   [0, 20]   [3, 120]     [24, 28]  [0, 20]   [0, 20]\n",
       " [0, 20]   [3, 120]  [0, 20]   [0, 20]      [0, 20]   [14, 20]  [0, 20]\n",
       " [0, 20]   [0, 20]   [3, 120]  [0, 20]      [0, 20]   [0, 20]   [14, 18]\n",
       " [0, 20]   [0, 20]   [0, 20]   [0, 20]   …  [0, 20]   [0, 20]   [0, 20]"
      ]
     },
     "metadata": {},
     "output_type": "display_data"
    }
   ],
   "source": [
    "A"
   ]
  },
  {
   "cell_type": "code",
   "execution_count": 48,
   "metadata": {},
   "outputs": [
    {
     "data": {
      "text/plain": [
       "100"
      ]
     },
     "metadata": {},
     "output_type": "display_data"
    }
   ],
   "source": [
    "L = 8\n",
    "U = 100"
   ]
  },
  {
   "cell_type": "code",
   "execution_count": 57,
   "metadata": {},
   "outputs": [
    {
     "data": {
      "text/plain": [
       "1"
      ]
     },
     "metadata": {},
     "output_type": "display_data"
    }
   ],
   "source": [
    "min(1,5)"
   ]
  },
  {
   "cell_type": "code",
   "execution_count": 80,
   "metadata": {},
   "outputs": [
    {
     "name": "stdout",
     "output_type": "stream",
     "text": [
      "Set parameter Username\n",
      "Academic license - for non-commercial use only - expires 2024-09-19\n"
     ]
    },
    {
     "name": "stderr",
     "output_type": "stream",
     "text": [
      "WARNING: redefinition of constant GRB_ENV. This may fail, cause incorrect answers, or produce other errors.\n"
     ]
    },
    {
     "data": {
      "text/plain": [
       "11×11 Matrix{VariableRef}:\n",
       " z[1,1]   z[1,2]   z[1,3]   z[1,4]   z[1,5]   …  z[1,9]   z[1,10]   z[1,11]\n",
       " z[2,1]   z[2,2]   z[2,3]   z[2,4]   z[2,5]      z[2,9]   z[2,10]   z[2,11]\n",
       " z[3,1]   z[3,2]   z[3,3]   z[3,4]   z[3,5]      z[3,9]   z[3,10]   z[3,11]\n",
       " z[4,1]   z[4,2]   z[4,3]   z[4,4]   z[4,5]      z[4,9]   z[4,10]   z[4,11]\n",
       " z[5,1]   z[5,2]   z[5,3]   z[5,4]   z[5,5]      z[5,9]   z[5,10]   z[5,11]\n",
       " z[6,1]   z[6,2]   z[6,3]   z[6,4]   z[6,5]   …  z[6,9]   z[6,10]   z[6,11]\n",
       " z[7,1]   z[7,2]   z[7,3]   z[7,4]   z[7,5]      z[7,9]   z[7,10]   z[7,11]\n",
       " z[8,1]   z[8,2]   z[8,3]   z[8,4]   z[8,5]      z[8,9]   z[8,10]   z[8,11]\n",
       " z[9,1]   z[9,2]   z[9,3]   z[9,4]   z[9,5]      z[9,9]   z[9,10]   z[9,11]\n",
       " z[10,1]  z[10,2]  z[10,3]  z[10,4]  z[10,5]     z[10,9]  z[10,10]  z[10,11]\n",
       " z[11,1]  z[11,2]  z[11,3]  z[11,4]  z[11,5]  …  z[11,9]  z[11,10]  z[11,11]"
      ]
     },
     "metadata": {},
     "output_type": "display_data"
    }
   ],
   "source": [
    "const GRB_ENV = Gurobi.Env();\n",
    "m = Model(() -> Gurobi.Optimizer(GRB_ENV));\n",
    "\n",
    "@variable(m, t >= L); \n",
    "@variable(m, Tau[1:length(E)] >= 0, Int); #main decision variable, time of event i \n",
    "@variable(m, y[1:length(E),1:length(E)] >= 0); #linearization variable y=zt\n",
    "@variable(m, z[1:length(E),1:length(E)], Bin); # describes for each activity the order of events within \n",
    "                                                ## the timetable period (1 if transverses to next cycle)\n",
    "\n"
   ]
  },
  {
   "cell_type": "code",
   "execution_count": 81,
   "metadata": {},
   "outputs": [
    {
     "data": {
      "text/plain": [
       "2-element Vector{AffExpr}:\n",
       " 3\n",
       " t - 3"
      ]
     },
     "metadata": {},
     "output_type": "display_data"
    }
   ],
   "source": [
    "A = Array{Any}(undef, 11, 11)\n",
    "\n",
    "for i in 1:11\n",
    "    for j in 1:11\n",
    "        A[i,j] = [0,20]\n",
    "    end\n",
    "end\n",
    "\n",
    "A[1,2] = [30,36]\n",
    "A[2,3] = [18,24]\n",
    "A[4,5] = [24,28]\n",
    "A[5,6] = [14,20]\n",
    "A[6,7] = [20,24]\n",
    "A[8,9] = [24,28]\n",
    "A[9,10] = [14,20]\n",
    "A[10,11] = [14,18]\n",
    "\n",
    "A[1,4] = [3,t-3]\n",
    "A[4,1] = [3,t-3]\n",
    "A[1,8] = [3,t-3]\n",
    "A[8,1] = [3,t-3]\n",
    "A[4,8] = [3,t-3]\n",
    "A[8,4] = [3,t-3]\n",
    "\n",
    "A[2,5] = [3,t-3]\n",
    "A[5,2] = [3,t-3]\n",
    "A[2,9] = [3,t-3]\n",
    "A[9,2] = [3,t-3]\n",
    "A[5,9] = [3,t-3]\n",
    "A[9,5] = [3,t-3]\n",
    "\n",
    "A[3,6] = [3,t-3]\n",
    "A[6,3] = [3,t-3]\n",
    "A[3,10] = [3,t-3]\n",
    "A[10,3] = [3,t-3]\n",
    "A[6,10] = [3,t-3]\n",
    "A[10,6] = [3,t-3]\n",
    "\n",
    "A[7,11] = [3,t-3]\n",
    "A[11,7] =[3,t-3]"
   ]
  },
  {
   "cell_type": "code",
   "execution_count": 82,
   "metadata": {},
   "outputs": [],
   "source": [
    "\n",
    "@objective(m, Min, t);\n",
    "\n",
    "@constraint(m, c_1a[i in 1:length(E), j in 1:length(E)], Tau[j] - Tau[i] + y[i,j] >= A[i,j][1]); #the time between events should be\n",
    "                                                                                                 ## bounded by the given bounds\n",
    "@constraint(m, c_1b[i in 1:length(E), j in 1:length(E)], Tau[j] - Tau[i] + y[i,j] <= A[i,j][2]);\n",
    "\n",
    "@constraint(m, c_2[i in 1:length(E)], Tau[i] - t <= .0001); #Start time of all events must be less than the cycle time\n",
    "\n",
    "@constraint(m, c_3[i in 1:length(E), j in 1:length(E)], y[i,j] <= t); #linearization constraint\n",
    "\n",
    "@constraint(m, c_4[i in 1:length(E), j in 1:length(E)], y[i,j] - U*z[i,j] <= 0); #linearization constraint\n",
    "\n",
    "@constraint(m, c_5[i in 1:length(E), j in 1:length(E)], y[i,j] - t + U*(1- z[i,j]) >= 0); #linearization constraint\n",
    "\n",
    "@constraint(m, c_6, t <= U); #upper bound on cycle time"
   ]
  },
  {
   "cell_type": "code",
   "execution_count": 83,
   "metadata": {},
   "outputs": [
    {
     "name": "stdout",
     "output_type": "stream",
     "text": [
      "Gurobi Optimizer version 9.5.2 build v9.5.2rc0 (mac64[x86])\n",
      "Thread count: 4 physical cores, 8 logical processors, using up to 8 threads\n",
      "Optimize a model with 617 rows, 254 columns and 1572 nonzeros\n",
      "Model fingerprint: 0x296dec67\n",
      "Variable types: 122 continuous, 132 integer (121 binary)\n",
      "Coefficient statistics:\n",
      "  Matrix range     [1e+00, 1e+02]\n",
      "  Objective range  [1e+00, 1e+00]\n",
      "  Bounds range     [8e+00, 8e+00]\n",
      "  RHS range        [1e-04, 1e+02]\n",
      "Presolve removed 23 rows and 0 columns\n",
      "Presolve time: 0.01s\n",
      "Presolved: 594 rows, 254 columns, 1549 nonzeros\n",
      "Variable types: 122 continuous, 132 integer (121 binary)\n",
      "\n",
      "Root relaxation: objective 1.600000e+01, 167 iterations, 0.00 seconds (0.00 work units)\n",
      "\n",
      "    Nodes    |    Current Node    |     Objective Bounds      |     Work\n",
      " Expl Unexpl |  Obj  Depth IntInf | Incumbent    BestBd   Gap | It/Node Time\n",
      "\n",
      "     0     0   16.00000    0    2          -   16.00000      -     -    0s\n",
      "H    0     0                      17.9999000   16.00000  11.1%     -    0s\n",
      "H    0     0                      17.0000000   16.00000  5.88%     -    0s\n",
      "     0     0   16.00000    0   17   17.00000   16.00000  5.88%     -    0s\n",
      "     0     0   16.75000    0   21   17.00000   16.75000  1.47%     -    0s\n",
      "\n",
      "Cutting planes:\n",
      "  Gomory: 2\n",
      "  Cover: 2\n",
      "  Implied bound: 15\n",
      "  MIR: 13\n",
      "  StrongCG: 6\n",
      "  Flow cover: 4\n",
      "  RLT: 3\n",
      "  Relax-and-lift: 13\n",
      "  BQP: 7\n",
      "\n",
      "Explored 1 nodes (359 simplex iterations) in 0.07 seconds (0.03 work units)\n",
      "Thread count was 8 (of 8 available processors)\n",
      "\n",
      "Solution count 2: 17 17.9999 \n",
      "\n",
      "Optimal solution found (tolerance 1.00e-04)\n",
      "Best objective 1.700000000000e+01, best bound 1.699990000000e+01, gap 0.0006%\n",
      "\n",
      "User-callback calls 276, time in user-callback 0.00 sec\n"
     ]
    }
   ],
   "source": [
    "optimize!(m)"
   ]
  },
  {
   "cell_type": "code",
   "execution_count": 84,
   "metadata": {},
   "outputs": [
    {
     "data": {
      "text/plain": [
       "11-element Vector{Float64}:\n",
       " -0.0\n",
       " 14.0\n",
       " 17.0\n",
       "  3.0\n",
       " 10.0\n",
       " 11.0\n",
       " 16.0\n",
       "  6.0\n",
       " 17.0\n",
       " 14.0\n",
       " 11.0"
      ]
     },
     "metadata": {},
     "output_type": "display_data"
    }
   ],
   "source": [
    "value.(Tau)"
   ]
  },
  {
   "cell_type": "code",
   "execution_count": 55,
   "metadata": {},
   "outputs": [
    {
     "data": {
      "text/plain": [
       "11×11 Matrix{Float64}:\n",
       " 2.0e9  2.0e9  2.0e9  2.0e9  2.0e9  2.0e9  2.0e9  2.0e9  2.0e9  2.0e9  2.0e9\n",
       " 2.0e9  2.0e9  2.0e9  2.0e9  2.0e9  2.0e9  2.0e9  2.0e9  2.0e9  2.0e9  2.0e9\n",
       " 2.0e9  2.0e9  2.0e9  2.0e9  2.0e9  2.0e9  2.0e9  2.0e9  2.0e9  2.0e9  2.0e9\n",
       " 2.0e9  2.0e9  2.0e9  2.0e9  2.0e9  2.0e9  2.0e9  2.0e9  2.0e9  2.0e9  2.0e9\n",
       " 2.0e9  2.0e9  2.0e9  2.0e9  2.0e9  2.0e9  2.0e9  2.0e9  2.0e9  2.0e9  2.0e9\n",
       " 2.0e9  2.0e9  2.0e9  2.0e9  2.0e9  2.0e9  2.0e9  2.0e9  2.0e9  2.0e9  2.0e9\n",
       " 2.0e9  2.0e9  2.0e9  2.0e9  2.0e9  2.0e9  2.0e9  2.0e9  2.0e9  2.0e9  2.0e9\n",
       " 2.0e9  2.0e9  2.0e9  2.0e9  2.0e9  2.0e9  2.0e9  2.0e9  2.0e9  2.0e9  2.0e9\n",
       " 2.0e9  2.0e9  2.0e9  2.0e9  2.0e9  2.0e9  2.0e9  2.0e9  2.0e9  2.0e9  2.0e9\n",
       " 2.0e9  2.0e9  2.0e9  2.0e9  2.0e9  2.0e9  2.0e9  2.0e9  2.0e9  2.0e9  2.0e9\n",
       " 2.0e9  2.0e9  2.0e9  2.0e9  2.0e9  2.0e9  2.0e9  2.0e9  2.0e9  2.0e9  2.0e9"
      ]
     },
     "metadata": {},
     "output_type": "display_data"
    }
   ],
   "source": [
    "value.(y)"
   ]
  },
  {
   "cell_type": "code",
   "execution_count": 14,
   "metadata": {},
   "outputs": [],
   "source": []
  },
  {
   "cell_type": "code",
   "execution_count": 15,
   "metadata": {},
   "outputs": [],
   "source": []
  }
 ],
 "metadata": {
  "kernelspec": {
   "display_name": "Julia 1.8.1",
   "language": "julia",
   "name": "julia-1.8"
  },
  "language_info": {
   "file_extension": ".jl",
   "mimetype": "application/julia",
   "name": "julia",
   "version": "1.8.1"
  },
  "orig_nbformat": 4
 },
 "nbformat": 4,
 "nbformat_minor": 2
}
