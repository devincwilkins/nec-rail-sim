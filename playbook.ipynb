{
 "cells": [
  {
   "cell_type": "code",
   "execution_count": 1,
   "metadata": {},
   "outputs": [],
   "source": [
    "def runningResistance(self):\n",
    "    #current speed is kept in m/s but track resistance (drag) terms needs v in km/hr\n",
    "    v = self.currentSpeed\n",
    "    return (self.trackResistance[0] + self.trackResistance[1]*v \\\n",
    "            + self.trackResistance[2]*(v**2))/self.mass\n",
    "\n",
    "def getNextAcceleration(self):\n",
    "    if self.currentSpeed != 0:\n",
    "        normalAcceleration = (self.power/self.mass)/self.currentSpeed\n",
    "        acceleration = min(normalAcceleration,self.initialAcceleration)\n",
    "    else:\n",
    "        acceleration = self.initialAcceleration\n",
    "    running_resistance = self.runningResistance()\n",
    "    # print(\"acceleration is \" + str(acceleration - running_resistance))\n",
    "    return acceleration - running_resistance\n",
    "\n",
    "def getNextDeceleration(self):\n",
    "    normalDeceleration = -1*((self.Brake_power/self.mass)/self.currentSpeed)\n",
    "    deceleration = min(normalDeceleration,-1*self.initialAcceleration)\n",
    "    running_resistance = self.runningResistance()\n",
    "    # print(\"deceleration is \" + str(deceleration + running_resistance))\n",
    "    return deceleration + running_resistance\n",
    "    \n",
    "def updateDecelDistance_1(self, vf):\n",
    "    # print(brake_dist(0,123400,41.67,0,.0059,.000118,.000022)[0])\n",
    "    # brake_dist(p,m,v0,vf,a,b,c): \n",
    "    #braking_distance is integration of deceleration function\n",
    "    bet = 0.09 #self.brakeCoef #braking coefficient\n",
    "    lam = 0\n",
    "    g = 9.8 \n",
    "    a = self.trackResistance[0]\n",
    "    b = self.trackResistance[1]\n",
    "    c = self.trackResistance[2]\n",
    "    m = self.mass\n",
    "    func = lambda x : (x)/((c/m)*(x**2) + (b/m)*(x) + (a/m) + (g*(bet + lam))) #x is v\n",
    "    def integratel(f,a,b,n):\n",
    "        a1 = float(a)\n",
    "        b1 = float(b)\n",
    "        y = 0\n",
    "        for i in range(0,n):\n",
    "            y = y + f(a1 + (b1-a1)*i/n)\n",
    "        return y*(b1-a1)/n\n",
    "    braking_distance = integratel(func,vf,self.currentSpeed,1000)\n",
    "    return braking_distance"
   ]
  },
  {
   "cell_type": "code",
   "execution_count": 10,
   "metadata": {},
   "outputs": [],
   "source": [
    "a = 212.5\n",
    "b = 0.7716\n",
    "c = 0.003858\n",
    "power = 6600000\n",
    "brakePower = 7000000\n",
    "m = 416000\n",
    "g = 9.8\n",
    "bet = 0.09"
   ]
  },
  {
   "cell_type": "code",
   "execution_count": 11,
   "metadata": {},
   "outputs": [],
   "source": [
    "def updateDecelDistance_1(vf, v0):\n",
    "    func = lambda x : (x)/((c/m)*(x**2) + (b/m)*(x) + (a/m) + (g*(bet)))\n",
    "    def integratel(f,a,b,n):\n",
    "        a1 = float(a)\n",
    "        b1 = float(b)\n",
    "        y = 0\n",
    "        for i in range(0,n):\n",
    "            y = y + f(a1 + (b1-a1)*i/n)\n",
    "        return y*(b1-a1)/n\n",
    "    braking_distance = integratel(func,vf,v0,1000)\n",
    "    return braking_distance"
   ]
  },
  {
   "cell_type": "code",
   "execution_count": 31,
   "metadata": {},
   "outputs": [],
   "source": [
    "def updateDecelDistance_2(vf, v0):\n",
    "    func = lambda x : (x)/((g*(bet)))\n",
    "    def integratel(f,a,b,n):\n",
    "        a1 = float(a)\n",
    "        b1 = float(b)\n",
    "        y = 0\n",
    "        for i in range(0,n):\n",
    "            y = y + f(a1 + (b1-a1)*i/n)\n",
    "        return y*(b1-a1)/n\n",
    "    braking_distance = integratel(func,vf,v0,1000)\n",
    "    return braking_distance"
   ]
  },
  {
   "cell_type": "code",
   "execution_count": 36,
   "metadata": {},
   "outputs": [],
   "source": [
    "def updateDecelDistance(vf, v0):\n",
    "    func = lambda x : (x)/((c/m)*(x**2) + (b/m)*(x) + (a/m) + (brakePower/(m)))\n",
    "    def integratel(f,a,b,n):\n",
    "        a1 = float(a)\n",
    "        b1 = float(b)\n",
    "        y = 0\n",
    "        for i in range(0,n):\n",
    "            y = y + f(a1 + (b1-a1)*i/n)\n",
    "        return y*(b1-a1)/n\n",
    "    braking_distance = integratel(func,vf,v0,1000)\n",
    "    return braking_distance"
   ]
  },
  {
   "cell_type": "code",
   "execution_count": null,
   "metadata": {},
   "outputs": [],
   "source": [
    "a = 0.0059, b = 0.000118, c = 0.000022"
   ]
  },
  {
   "cell_type": "code",
   "execution_count": 58,
   "metadata": {},
   "outputs": [],
   "source": [
    "def updateDecelDistance_4(vf, v0):\n",
    "    func = lambda x : max((x**2)/(brakePower/m + 0.0059*x + 0.000118*x**2 + 0.000022*x**3),x/m)\n",
    "    def integratel(f,a,b,n):\n",
    "        a1 = float(a)\n",
    "        b1 = float(b)\n",
    "        y = 0\n",
    "        for i in range(0,n):\n",
    "            y = y + f(a1 + (b1-a1)*i/n)\n",
    "        return y*(b1-a1)/n\n",
    "    braking_distance = integratel(func,vf,v0,1000)\n",
    "    return braking_distance"
   ]
  },
  {
   "cell_type": "code",
   "execution_count": 59,
   "metadata": {},
   "outputs": [
    {
     "data": {
      "text/plain": [
       "9311.046125853802"
      ]
     },
     "execution_count": 59,
     "metadata": {},
     "output_type": "execute_result"
    }
   ],
   "source": [
    "updateDecelDistance_4(0.00001,88)"
   ]
  },
  {
   "cell_type": "code",
   "execution_count": null,
   "metadata": {},
   "outputs": [],
   "source": [
    "def getNextDeceleration(self):\n",
    "    normalDeceleration = -1*((self.Brake_power/self.mass)/self.currentSpeed)\n",
    "    deceleration = min(normalDeceleration,-1*self.initialAcceleration)\n",
    "    running_resistance = self.runningResistance()\n",
    "    # print(\"deceleration is \" + str(deceleration + running_resistance))\n",
    "    return deceleration + running_resistance"
   ]
  }
 ],
 "metadata": {
  "kernelspec": {
   "display_name": "Python 3",
   "language": "python",
   "name": "python3"
  },
  "language_info": {
   "codemirror_mode": {
    "name": "ipython",
    "version": 3
   },
   "file_extension": ".py",
   "mimetype": "text/x-python",
   "name": "python",
   "nbconvert_exporter": "python",
   "pygments_lexer": "ipython3",
   "version": "3.11.6"
  }
 },
 "nbformat": 4,
 "nbformat_minor": 2
}
