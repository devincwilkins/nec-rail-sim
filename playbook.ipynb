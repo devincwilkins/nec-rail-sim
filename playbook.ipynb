{
 "cells": [
  {
   "cell_type": "code",
   "execution_count": 1,
   "metadata": {},
   "outputs": [],
   "source": [
    "def runningResistance(self):\n",
    "    #current speed is kept in m/s but track resistance (drag) terms needs v in km/hr\n",
    "    v = self.currentSpeed\n",
    "    return (self.trackResistance[0] + self.trackResistance[1]*v \\\n",
    "            + self.trackResistance[2]*(v**2))/self.mass\n",
    "\n",
    "def getNextAcceleration(self):\n",
    "    if self.currentSpeed != 0:\n",
    "        normalAcceleration = (self.power/self.mass)/self.currentSpeed\n",
    "        acceleration = min(normalAcceleration,self.initialAcceleration)\n",
    "    else:\n",
    "        acceleration = self.initialAcceleration\n",
    "    running_resistance = self.runningResistance()\n",
    "    # print(\"acceleration is \" + str(acceleration - running_resistance))\n",
    "    return acceleration - running_resistance\n",
    "\n",
    "def getNextDeceleration(self):\n",
    "    normalDeceleration = -1*((self.Brake_power/self.mass)/self.currentSpeed)\n",
    "    deceleration = min(normalDeceleration,-1*self.initialAcceleration)\n",
    "    running_resistance = self.runningResistance()\n",
    "    # print(\"deceleration is \" + str(deceleration + running_resistance))\n",
    "    return deceleration + running_resistance\n",
    "    \n",
    "def updateDecelDistance_1(self, vf):\n",
    "    # print(brake_dist(0,123400,41.67,0,.0059,.000118,.000022)[0])\n",
    "    # brake_dist(p,m,v0,vf,a,b,c): \n",
    "    #braking_distance is integration of deceleration function\n",
    "    bet = 0.09 #self.brakeCoef #braking coefficient\n",
    "    lam = 0\n",
    "    g = 9.8 \n",
    "    a = self.trackResistance[0]\n",
    "    b = self.trackResistance[1]\n",
    "    c = self.trackResistance[2]\n",
    "    m = self.mass\n",
    "    func = lambda x : (x)/((c/m)*(x**2) + (b/m)*(x) + (a/m) + (g*(bet + lam))) #x is v\n",
    "    def integratel(f,a,b,n):\n",
    "        a1 = float(a)\n",
    "        b1 = float(b)\n",
    "        y = 0\n",
    "        for i in range(0,n):\n",
    "            y = y + f(a1 + (b1-a1)*i/n)\n",
    "        return y*(b1-a1)/n\n",
    "    braking_distance = integratel(func,vf,self.currentSpeed,1000)\n",
    "    return braking_distance"
   ]
  },
  {
   "cell_type": "code",
   "execution_count": 10,
   "metadata": {},
   "outputs": [],
   "source": [
    "a = 212.5\n",
    "b = 0.7716\n",
    "c = 0.003858\n",
    "power = 6600000\n",
    "brakePower = 7000000\n",
    "m = 416000\n",
    "g = 9.8\n",
    "bet = 0.09"
   ]
  },
  {
   "cell_type": "code",
   "execution_count": 11,
   "metadata": {},
   "outputs": [],
   "source": [
    "def updateDecelDistance_1(vf, v0):\n",
    "    func = lambda x : (x)/((c/m)*(x**2) + (b/m)*(x) + (a/m) + (g*(bet)))\n",
    "    def integratel(f,a,b,n):\n",
    "        a1 = float(a)\n",
    "        b1 = float(b)\n",
    "        y = 0\n",
    "        for i in range(0,n):\n",
    "            y = y + f(a1 + (b1-a1)*i/n)\n",
    "        return y*(b1-a1)/n\n",
    "    braking_distance = integratel(func,vf,v0,1000)\n",
    "    return braking_distance"
   ]
  },
  {
   "cell_type": "code",
   "execution_count": 31,
   "metadata": {},
   "outputs": [],
   "source": [
    "def updateDecelDistance_2(vf, v0):\n",
    "    func = lambda x : (x)/((g*(bet)))\n",
    "    def integratel(f,a,b,n):\n",
    "        a1 = float(a)\n",
    "        b1 = float(b)\n",
    "        y = 0\n",
    "        for i in range(0,n):\n",
    "            y = y + f(a1 + (b1-a1)*i/n)\n",
    "        return y*(b1-a1)/n\n",
    "    braking_distance = integratel(func,vf,v0,1000)\n",
    "    return braking_distance"
   ]
  },
  {
   "cell_type": "code",
   "execution_count": 36,
   "metadata": {},
   "outputs": [],
   "source": [
    "def updateDecelDistance(vf, v0):\n",
    "    func = lambda x : (x)/((c/m)*(x**2) + (b/m)*(x) + (a/m) + (brakePower/(m)))\n",
    "    def integratel(f,a,b,n):\n",
    "        a1 = float(a)\n",
    "        b1 = float(b)\n",
    "        y = 0\n",
    "        for i in range(0,n):\n",
    "            y = y + f(a1 + (b1-a1)*i/n)\n",
    "        return y*(b1-a1)/n\n",
    "    braking_distance = integratel(func,vf,v0,1000)\n",
    "    return braking_distance"
   ]
  },
  {
   "cell_type": "code",
   "execution_count": null,
   "metadata": {},
   "outputs": [],
   "source": [
    "a = 0.0059, b = 0.000118, c = 0.000022"
   ]
  },
  {
   "cell_type": "code",
   "execution_count": 58,
   "metadata": {},
   "outputs": [],
   "source": [
    "def updateDecelDistance_4(vf, v0):\n",
    "    func = lambda x : max((x**2)/(brakePower/m + 0.0059*x + 0.000118*x**2 + 0.000022*x**3),x/m)\n",
    "    def integratel(f,a,b,n):\n",
    "        a1 = float(a)\n",
    "        b1 = float(b)\n",
    "        y = 0\n",
    "        for i in range(0,n):\n",
    "            y = y + f(a1 + (b1-a1)*i/n)\n",
    "        return y*(b1-a1)/n\n",
    "    braking_distance = integratel(func,vf,v0,1000)\n",
    "    return braking_distance"
   ]
  },
  {
   "cell_type": "code",
   "execution_count": 59,
   "metadata": {},
   "outputs": [
    {
     "data": {
      "text/plain": [
       "9311.046125853802"
      ]
     },
     "execution_count": 59,
     "metadata": {},
     "output_type": "execute_result"
    }
   ],
   "source": [
    "updateDecelDistance_4(0.00001,88)"
   ]
  },
  {
   "cell_type": "code",
   "execution_count": null,
   "metadata": {},
   "outputs": [],
   "source": [
    "def getNextDeceleration(self):\n",
    "    normalDeceleration = -1*((self.Brake_power/self.mass)/self.currentSpeed)\n",
    "    deceleration = min(normalDeceleration,-1*self.initialAcceleration)\n",
    "    running_resistance = self.runningResistance()\n",
    "    # print(\"deceleration is \" + str(deceleration + running_resistance))\n",
    "    return deceleration + running_resistance"
   ]
  },
  {
   "cell_type": "markdown",
   "metadata": {},
   "source": []
  },
  {
   "cell_type": "code",
   "execution_count": 3,
   "metadata": {},
   "outputs": [],
   "source": [
    "import pandas as pd"
   ]
  },
  {
   "cell_type": "code",
   "execution_count": 7,
   "metadata": {},
   "outputs": [
    {
     "name": "stderr",
     "output_type": "stream",
     "text": [
      "/var/folders/4r/_g6thdg51jj5t2pl3qkzd3h00000gn/T/ipykernel_20796/662727050.py:5: DtypeWarning: Columns (9,13,17,32,34,37,38,41,42,44,45,46,47,48,49,50,51,52,53,54,55,64,70,76,144,151) have mixed types. Specify dtype option on import or set low_memory=False.\n",
      "  segment = pd.read_csv('./../../Desktop/TopLinks/Segment Attributes and Join Count.csv')\n"
     ]
    }
   ],
   "source": [
    "fencing = pd.read_excel('./../../Desktop/TopLinks/fencing.xlsx')\n",
    "detection = pd.read_excel('./../../Desktop/TopLinks/detection.xlsx')\n",
    "overpass = pd.read_excel('./../../Desktop/TopLinks/overpass.xlsx')\n",
    "underpass = pd.read_excel('./../../Desktop/TopLinks/underpass.xlsx')\n",
    "segment = pd.read_csv('./../../Desktop/TopLinks/Segment Attributes and Join Count.csv')\n"
   ]
  },
  {
   "cell_type": "code",
   "execution_count": 10,
   "metadata": {},
   "outputs": [
    {
     "name": "stdout",
     "output_type": "stream",
     "text": [
      "fencing (100, 24)\n",
      "detection (100, 21)\n",
      "overpass (100, 21)\n",
      "underpass (100, 13)\n",
      "segment (640123, 156)\n"
     ]
    }
   ],
   "source": [
    "print('fencing',fencing.shape)\n",
    "print('detection',detection.shape)\n",
    "print('overpass',overpass.shape)\n",
    "print('underpass',underpass.shape)\n",
    "print('segment',segment.shape)"
   ]
  },
  {
   "cell_type": "code",
   "execution_count": 16,
   "metadata": {},
   "outputs": [
    {
     "data": {
      "text/html": [
       "<div>\n",
       "<style scoped>\n",
       "    .dataframe tbody tr th:only-of-type {\n",
       "        vertical-align: middle;\n",
       "    }\n",
       "\n",
       "    .dataframe tbody tr th {\n",
       "        vertical-align: top;\n",
       "    }\n",
       "\n",
       "    .dataframe thead th {\n",
       "        text-align: right;\n",
       "    }\n",
       "</style>\n",
       "<table border=\"1\" class=\"dataframe\">\n",
       "  <thead>\n",
       "    <tr style=\"text-align: right;\">\n",
       "      <th></th>\n",
       "      <th>TARGET_FID</th>\n",
       "      <th>HWY</th>\n",
       "      <th>HSYS</th>\n",
       "      <th>HNUM</th>\n",
       "    </tr>\n",
       "  </thead>\n",
       "  <tbody>\n",
       "    <tr>\n",
       "      <th>0</th>\n",
       "      <td>0</td>\n",
       "      <td>GS0000</td>\n",
       "      <td>GS</td>\n",
       "      <td>0</td>\n",
       "    </tr>\n",
       "    <tr>\n",
       "      <th>1</th>\n",
       "      <td>1</td>\n",
       "      <td>GS0000</td>\n",
       "      <td>GS</td>\n",
       "      <td>0</td>\n",
       "    </tr>\n",
       "    <tr>\n",
       "      <th>2</th>\n",
       "      <td>2</td>\n",
       "      <td>GS0000</td>\n",
       "      <td>GS</td>\n",
       "      <td>0</td>\n",
       "    </tr>\n",
       "    <tr>\n",
       "      <th>3</th>\n",
       "      <td>3</td>\n",
       "      <td>CR0000</td>\n",
       "      <td>CR</td>\n",
       "      <td>0</td>\n",
       "    </tr>\n",
       "    <tr>\n",
       "      <th>4</th>\n",
       "      <td>4</td>\n",
       "      <td>GS0000</td>\n",
       "      <td>GS</td>\n",
       "      <td>0</td>\n",
       "    </tr>\n",
       "    <tr>\n",
       "      <th>...</th>\n",
       "      <td>...</td>\n",
       "      <td>...</td>\n",
       "      <td>...</td>\n",
       "      <td>...</td>\n",
       "    </tr>\n",
       "    <tr>\n",
       "      <th>640118</th>\n",
       "      <td>640118</td>\n",
       "      <td>FD0000</td>\n",
       "      <td>FD</td>\n",
       "      <td>0</td>\n",
       "    </tr>\n",
       "    <tr>\n",
       "      <th>640119</th>\n",
       "      <td>640119</td>\n",
       "      <td>FD0000</td>\n",
       "      <td>FD</td>\n",
       "      <td>0</td>\n",
       "    </tr>\n",
       "    <tr>\n",
       "      <th>640120</th>\n",
       "      <td>640120</td>\n",
       "      <td>FD0000</td>\n",
       "      <td>FD</td>\n",
       "      <td>0</td>\n",
       "    </tr>\n",
       "    <tr>\n",
       "      <th>640121</th>\n",
       "      <td>640121</td>\n",
       "      <td>FD0000</td>\n",
       "      <td>FD</td>\n",
       "      <td>0</td>\n",
       "    </tr>\n",
       "    <tr>\n",
       "      <th>640122</th>\n",
       "      <td>640122</td>\n",
       "      <td>FD0000</td>\n",
       "      <td>FD</td>\n",
       "      <td>0</td>\n",
       "    </tr>\n",
       "  </tbody>\n",
       "</table>\n",
       "<p>640123 rows × 4 columns</p>\n",
       "</div>"
      ],
      "text/plain": [
       "        TARGET_FID     HWY HSYS HNUM\n",
       "0                0  GS0000   GS    0\n",
       "1                1  GS0000   GS    0\n",
       "2                2  GS0000   GS    0\n",
       "3                3  CR0000   CR    0\n",
       "4                4  GS0000   GS    0\n",
       "...            ...     ...  ...  ...\n",
       "640118      640118  FD0000   FD    0\n",
       "640119      640119  FD0000   FD    0\n",
       "640120      640120  FD0000   FD    0\n",
       "640121      640121  FD0000   FD    0\n",
       "640122      640122  FD0000   FD    0\n",
       "\n",
       "[640123 rows x 4 columns]"
      ]
     },
     "execution_count": 16,
     "metadata": {},
     "output_type": "execute_result"
    }
   ],
   "source": [
    "# fencing.LINK_ID\n",
    "segment.loc[:,['TARGET_FID','HWY','HSYS','HNUM']]"
   ]
  },
  {
   "cell_type": "code",
   "execution_count": 27,
   "metadata": {},
   "outputs": [],
   "source": [
    "(\n",
    "    fencing.iloc[:,:21]\n",
    "    .merge(\n",
    "        segment.loc[:,['TARGET_FID','HWY','HSYS','HNUM']]\n",
    "        ,left_on='LINK_ID', right_on='TARGET_FID'\n",
    "        ,how='left'\n",
    "    )\n",
    "    .to_excel('./../../Desktop/TopLinks/fencing_v2.xlsx',index=False)\n",
    ")\n"
   ]
  },
  {
   "cell_type": "code",
   "execution_count": 26,
   "metadata": {},
   "outputs": [],
   "source": [
    "\n",
    "(\n",
    "    detection.iloc[:,:21]\n",
    "    .merge(\n",
    "        segment.loc[:,['TARGET_FID','HWY','HSYS','HNUM']]\n",
    "        ,left_on='LINK_ID', right_on='TARGET_FID'\n",
    "        ,how='left'\n",
    "    )\n",
    "    .to_excel('./../../Desktop/TopLinks/detection_v2.xlsx',index=False)\n",
    ")\n"
   ]
  },
  {
   "cell_type": "code",
   "execution_count": 25,
   "metadata": {},
   "outputs": [],
   "source": [
    "(\n",
    "    overpass.iloc[:,:21]\n",
    "    .merge(\n",
    "        segment.loc[:,['TARGET_FID','HWY','HSYS','HNUM']]\n",
    "        ,left_on='LINK_ID', right_on='TARGET_FID'\n",
    "        ,how='left'\n",
    "    )\n",
    "    .to_excel('./../../Desktop/TopLinks/overpass_v2.xlsx',index=False)\n",
    ")\n"
   ]
  },
  {
   "cell_type": "code",
   "execution_count": 24,
   "metadata": {},
   "outputs": [],
   "source": [
    "(\n",
    "    underpass\n",
    "    .merge(\n",
    "        segment.loc[:,['TARGET_FID','HWY','HSYS','HNUM']]\n",
    "        ,left_on='LINK_ID', right_on='TARGET_FID'\n",
    "        ,how='left'\n",
    "    )\n",
    "    .to_excel('./../../Desktop/TopLinks/underpass_v2.xlsx',index=False)\n",
    ")"
   ]
  },
  {
   "cell_type": "code",
   "execution_count": null,
   "metadata": {},
   "outputs": [],
   "source": []
  }
 ],
 "metadata": {
  "kernelspec": {
   "display_name": "Python 3",
   "language": "python",
   "name": "python3"
  },
  "language_info": {
   "codemirror_mode": {
    "name": "ipython",
    "version": 3
   },
   "file_extension": ".py",
   "mimetype": "text/x-python",
   "name": "python",
   "nbconvert_exporter": "python",
   "pygments_lexer": "ipython3",
   "version": "3.11.6"
  }
 },
 "nbformat": 4,
 "nbformat_minor": 2
}
